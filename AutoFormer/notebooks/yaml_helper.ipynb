{
 "cells": [
  {
   "cell_type": "code",
   "execution_count": 10,
   "metadata": {},
   "outputs": [],
   "source": [
    "# replace this with the result from the logs\n",
    "d = {'embed_dim': 240, 'layer_num': 14, 'num_heads_0': 3, 'mlp_ratio_0': 3.5, 'num_heads_1': 4, 'mlp_ratio_1': 4, 'num_heads_2': 4, 'mlp_ratio_2': 4, 'num_heads_3': 4, 'mlp_ratio_3': 4, 'num_heads_4': 4, 'mlp_ratio_4': 4, 'num_heads_5': 4, 'mlp_ratio_5': 4, 'num_heads_6': 4, 'mlp_ratio_6': 4, 'num_heads_7': 4, 'mlp_ratio_7': 4, 'num_heads_8': 4, 'mlp_ratio_8': 4, 'num_heads_9': 4, 'mlp_ratio_9': 4, 'num_heads_10': 4, 'mlp_ratio_10': 4, 'num_heads_11': 4, 'mlp_ratio_11': 4, 'num_heads_12': 3, 'mlp_ratio_12': 4, 'num_heads_13': 3, 'mlp_ratio_13': 4, 'epoch': 499} "
   ]
  },
  {
   "cell_type": "code",
   "execution_count": 11,
   "metadata": {},
   "outputs": [],
   "source": [
    "def create_yaml_entries(arch, key_substr):\n",
    "    items = [(k, v) for k, v in arch.items() if key_substr in k]\n",
    "    items.sort(key=lambda x: int(x[0].split(\"_\")[-1]))\n",
    "    extracted = [v for (k, v) in items]\n",
    "    final_str = '  - ' + str(extracted)[1:-1].replace(',', '\\n  -')\n",
    "    print(final_str)"
   ]
  },
  {
   "cell_type": "code",
   "execution_count": 12,
   "metadata": {},
   "outputs": [
    {
     "name": "stdout",
     "output_type": "stream",
     "text": [
      "RETRAIN:\n",
      " MLP_RATIO:\n",
      "  - 3.5\n",
      "  - 3.5\n",
      "  - 3.5\n",
      "  - 3.5\n",
      "  - 3.5\n",
      "  - 3.5\n",
      "  - 3.5\n",
      "  - 3.5\n",
      "  - 3.5\n",
      "  - 3.5\n",
      "  - 4\n",
      "  - 3.5\n",
      "  - 3.5\n",
      "  - 3.5\n",
      " NUM_HEADS:\n",
      "  - 3\n",
      "  - 3\n",
      "  - 4\n",
      "  - 3\n",
      "  - 4\n",
      "  - 3\n",
      "  - 3\n",
      "  - 4\n",
      "  - 3\n",
      "  - 3\n",
      "  - 4\n",
      "  - 4\n",
      "  - 3\n",
      "  - 4\n",
      " DEPTH:  14\n",
      " EMBED_DIM:  192\n"
     ]
    }
   ],
   "source": [
    "print(\"RETRAIN:\")\n",
    "print(\" MLP_RATIO:\")\n",
    "create_yaml_entries(d, key_substr = \"mlp_ratio_\")\n",
    "print(\" NUM_HEADS:\")\n",
    "create_yaml_entries(d, key_substr = \"num_heads_\")\n",
    "print(\" DEPTH: \", d[\"layer_num\"])\n",
    "print(\" EMBED_DIM: \", d[\"embed_dim\"])"
   ]
  },
  {
   "cell_type": "code",
   "execution_count": null,
   "metadata": {},
   "outputs": [],
   "source": []
  }
 ],
 "metadata": {
  "kernelspec": {
   "display_name": "Python 3",
   "language": "python",
   "name": "python3"
  },
  "language_info": {
   "codemirror_mode": {
    "name": "ipython",
    "version": 3
   },
   "file_extension": ".py",
   "mimetype": "text/x-python",
   "name": "python",
   "nbconvert_exporter": "python",
   "pygments_lexer": "ipython3",
   "version": "3.10.12"
  }
 },
 "nbformat": 4,
 "nbformat_minor": 2
}
